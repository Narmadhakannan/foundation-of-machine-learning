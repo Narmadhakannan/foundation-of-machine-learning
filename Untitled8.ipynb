{
  "nbformat": 4,
  "nbformat_minor": 0,
  "metadata": {
    "colab": {
      "provenance": [],
      "authorship_tag": "ABX9TyP75Ebuk0oJs9nQzquWGAey",
      "include_colab_link": true
    },
    "kernelspec": {
      "name": "python3",
      "display_name": "Python 3"
    },
    "language_info": {
      "name": "python"
    }
  },
  "cells": [
    {
      "cell_type": "markdown",
      "metadata": {
        "id": "view-in-github",
        "colab_type": "text"
      },
      "source": [
        "<a href=\"https://colab.research.google.com/github/Narmadhakannan/foundation-of-machine-learning/blob/main/Untitled8.ipynb\" target=\"_parent\"><img src=\"https://colab.research.google.com/assets/colab-badge.svg\" alt=\"Open In Colab\"/></a>"
      ]
    },
    {
      "cell_type": "markdown",
      "source": [
        "PERCEPTRON\n",
        "\n"
      ],
      "metadata": {
        "id": "Jamfte1BNB3q"
      }
    },
    {
      "cell_type": "code",
      "execution_count": 1,
      "metadata": {
        "colab": {
          "base_uri": "https://localhost:8080/"
        },
        "id": "uK6pif06NA8b",
        "outputId": "5c7775c1-2c5a-4371-b52a-b0676cd5212e"
      },
      "outputs": [
        {
          "output_type": "stream",
          "name": "stdout",
          "text": [
            "Initial weights: [ 0.3 -0.2], theta=0.4, lr=0.2\n",
            "\n",
            "--- Epoch 1 ---\n",
            "x1 x2\ty_des\ty_est\terror\tw1\tw2\n",
            "0  0\t0\t0\t0\t0.3\t-0.2\n",
            "0  1\t0\t0\t0\t0.3\t-0.2\n",
            "1  0\t0\t0\t0\t0.3\t-0.2\n",
            "1  1\t1\t0\t1\t0.5\t0.0\n",
            "--- Epoch 2 ---\n",
            "x1 x2\ty_des\ty_est\terror\tw1\tw2\n",
            "0  0\t0\t0\t0\t0.5\t0.0\n",
            "0  1\t0\t0\t0\t0.5\t0.0\n",
            "1  0\t0\t1\t-1\t0.3\t0.0\n",
            "1  1\t1\t0\t1\t0.5\t0.2\n",
            "--- Epoch 3 ---\n",
            "x1 x2\ty_des\ty_est\terror\tw1\tw2\n",
            "0  0\t0\t0\t0\t0.5\t0.2\n",
            "0  1\t0\t0\t0\t0.5\t0.2\n",
            "1  0\t0\t1\t-1\t0.3\t0.2\n",
            "1  1\t1\t1\t0\t0.3\t0.2\n",
            "--- Epoch 4 ---\n",
            "x1 x2\ty_des\ty_est\terror\tw1\tw2\n",
            "0  0\t0\t0\t0\t0.3\t0.2\n",
            "0  1\t0\t0\t0\t0.3\t0.2\n",
            "1  0\t0\t0\t0\t0.3\t0.2\n",
            "1  1\t1\t1\t0\t0.3\t0.2\n",
            "\n",
            "Final weights: [0.3 0.2], theta=0.4\n",
            "\n",
            "Final perceptron outputs:\n",
            "Input [0 0] -> Net=-0.4, Yest=0, Ydes=0\n",
            "Input [0 1] -> Net=-0.2, Yest=0, Ydes=0\n",
            "Input [1 0] -> Net=-0.1, Yest=0, Ydes=0\n",
            "Input [1 1] -> Net=0.1, Yest=1, Ydes=1\n"
          ]
        }
      ],
      "source": [
        "import numpy as np\n",
        "\n",
        "# Training data for AND function\n",
        "# Inputs (x1, x2)\n",
        "X = np.array([\n",
        "    [0, 0],\n",
        "    [0, 1],\n",
        "    [1, 0],\n",
        "    [1, 1]\n",
        "])\n",
        "\n",
        "# Desired outputs\n",
        "Y = np.array([0, 0, 0, 1])\n",
        "\n",
        "# Parameters\n",
        "w = np.array([0.3, -0.2])   # initial weights\n",
        "theta = 0.4                 # threshold\n",
        "lr = 0.2                    # learning rate\n",
        "epochs = 4\n",
        "\n",
        "print(f\"Initial weights: {w}, theta={theta}, lr={lr}\\n\")\n",
        "\n",
        "# Training\n",
        "for epoch in range(1, epochs + 1):\n",
        "    print(f\"--- Epoch {epoch} ---\")\n",
        "    print(\"x1 x2\\ty_des\\ty_est\\terror\\tw1\\tw2\")\n",
        "    for i in range(len(X)):\n",
        "        x = X[i]\n",
        "        y_des = Y[i]\n",
        "\n",
        "        # net input\n",
        "        net = np.dot(x, w) - theta\n",
        "        y_est = 1 if net >= 0 else 0\n",
        "\n",
        "        # error\n",
        "        error = y_des - y_est\n",
        "\n",
        "        # update weights if error\n",
        "        if error != 0:\n",
        "            w = w + lr * error * x\n",
        "\n",
        "        print(f\"{x[0]}  {x[1]}\\t{y_des}\\t{y_est}\\t{error}\\t{round(w[0],3)}\\t{round(w[1],3)}\")\n",
        "\n",
        "print(f\"\\nFinal weights: {w}, theta={theta}\")\n",
        "\n",
        "# Test final perceptron\n",
        "print(\"\\nFinal perceptron outputs:\")\n",
        "for i in range(len(X)):\n",
        "    x = X[i]\n",
        "    net = np.dot(x, w) - theta\n",
        "    y_est = 1 if net >= 0 else 0\n",
        "    print(f\"Input {x} -> Net={round(net,1)}, Yest={y_est}, Ydes={Y[i]}\")\n",
        ""
      ]
    }
  ]
}